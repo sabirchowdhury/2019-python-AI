{
 "cells": [
  {
   "cell_type": "markdown",
   "metadata": {},
   "source": [
    "# Informed Search\n",
    "## Path Finding Search with A*\n",
    "### Introduction\n",
    "Suppose we want to find the shortest path in a grid with many obstacles.\n",
    "\n",
    "The world will be simple. It will be a rectangular grid of dots `.` representing empty spaces, and walls represented by hashes `#`. The start space is $(0,0)$ (the top left space), and the goal is the bottom right space: $(\\text{height}-1, \\text{width}-1)$."
   ]
  },
  {
   "cell_type": "code",
   "execution_count": 1,
   "metadata": {},
   "outputs": [
    {
     "name": "stdout",
     "output_type": "stream",
     "text": [
      "..........#.....####\n",
      "..#.....##.#.#....#.\n",
      "..#..#...##....#....\n",
      "#.#..............###\n",
      "##....###.#...##....\n",
      ".#......#.....#.....\n",
      "...#..#...##........\n",
      "...#...##..#..#.....\n",
      "......#........#...#\n",
      "............#.......\n"
     ]
    }
   ],
   "source": [
    "import random\n",
    "import mazegen\n",
    "\n",
    "random.seed(0)\n",
    "\n",
    "height = 10\n",
    "width = 20\n",
    "\n",
    "maze = mazegen.mazegen(height, width)\n",
    "mazegen.print_maze(maze)"
   ]
  },
  {
   "cell_type": "markdown",
   "metadata": {},
   "source": [
    "We can query any position of the board. In other words, you could think of this as path finding for an agent with perfect information about the world: it does not need physically act or move within the space to explore routes to discover where they lead. You might want to imagine possible modifications to the algorithm for an agent which can only observe the spaces around it.\n",
    "\n",
    "### The Heuristic\n",
    "Informed search uses some evaluation function to estimate which option is best. The function will represent the *cost* of each possible node, so we want to take the lowest one. In our case, a good cost function would be the path length from this space to the goal, and we obviously prefer the lower option.\n",
    "\n",
    "If we had a perfect cost function we would not need to search at all, we could just follow the path indicated by the known shortest path at each space. Of course we do not, and this is why we need a *heuristic* function, which estimates this cost.\n",
    "\n",
    "For our example a good heuristic will be the number of squares between the given space and the goal, ignoring obstacles. This is also called the Manhattan distance: for a given row-column space $(r, c)$ and goal $(g_r, g_c)$, <br> \n",
    "$f(r, c) = |g_r - r| + |g_c - c|$.<br>\n",
    "(Since we know the goal is the very last space, we could drop the absolute value signs, but we'll leave it in the code for generality.)"
   ]
  },
  {
   "cell_type": "code",
   "execution_count": 2,
   "metadata": {},
   "outputs": [],
   "source": [
    "# here is an implementation of our heuristic function\n",
    "# note this function will be redefined in the code later\n",
    "def h_cost(space, goal):\n",
    "    return abs(goal[0] - space[0]) + abs(goal[1] - space[1])"
   ]
  },
  {
   "cell_type": "markdown",
   "metadata": {},
   "source": [
    "### Greedy Search\n",
    "We can implement greedy search as a breadth first search that always explores the spaces with the lowest overall heuristic cost.\n",
    "\n",
    "This will be very similar to the code in the Tower of Hanoi and Missionaries and Cannibals examples, so refresh your memory if you are unsure. \n",
    "\n",
    "We are going to use a priority queue to implement the frontier. This means each state is assigned an additional value, and lower values will be popped from the queue first. Think of each item in the queue as a tuple `(cost, (row, column))`. So if the queue contained `(5, (15, 10))` and `(1, (20, 9))`, the latter would be returned first.\n",
    "\n",
    "But first we create a Node class which allows us to keep track of a Node's parent. The objects need to be comparable to be able to put them in a priority queue, but we only need to implement `__lt__` (less than) for it to work."
   ]
  },
  {
   "cell_type": "code",
   "execution_count": 3,
   "metadata": {},
   "outputs": [],
   "source": [
    "class Node:\n",
    "    def __init__(self, state, parent=None):\n",
    "        self.state = state\n",
    "        self.parent = parent\n",
    "\n",
    "    def __eq__(self, other):\n",
    "        return self.state == other.state\n",
    "\n",
    "    def __lt__(self, other):\n",
    "        return self.state < other.state\n",
    "\n",
    "    def __hash__(self):\n",
    "        return hash(self.state)\n",
    "\n",
    "    def __str__(self):\n",
    "        return f\"Node space {self.state}\""
   ]
  },
  {
   "cell_type": "markdown",
   "metadata": {},
   "source": [
    "Here is the code for the Frontier. We use a combination of a priority queue and a set to keep track of the nodes in the frontier, for efficient operations.\n",
    "\n",
    "Don't worry too much about the fine implementation details, just make sure you understand what each function will do (from its name and parameters). The important things are:\n",
    "* When a state is pushed its heuristic cost is calculated\n",
    " * If its cost is lower than an existing one in the frontier, it is updated\n",
    "* When a state is popped the lowest (best) cost node is returned"
   ]
  },
  {
   "cell_type": "code",
   "execution_count": 4,
   "metadata": {},
   "outputs": [],
   "source": [
    "from priorityqueue import PriorityQueue\n",
    "\n",
    "class Frontier:\n",
    "    # Note the heuristic function is passed in as a parameter\n",
    "    # Python borrows some nice features from functional programming\n",
    "    def __init__(self, heuristic, start_node=None):\n",
    "        self.heuristic = heuristic\n",
    "\n",
    "        self.queue = PriorityQueue()\n",
    "        self.states = set()\n",
    "\n",
    "        if start_node is not None:\n",
    "            self.push(start_node)\n",
    "            \n",
    "    def push(self, node):\n",
    "        cost = self.heuristic(node)\n",
    "        # get_priority returns math.inf if the task is not in the queue\n",
    "        if cost < self.queue.get_priority(node):\n",
    "            self.queue.push(node, priority=cost)\n",
    "            self.states.add(node.state)\n",
    "        \n",
    "    def pop(self):\n",
    "        node = self.queue.pop()\n",
    "        self.states.remove(node.state)\n",
    "        return node\n",
    "        \n",
    "    def contains(self, state):\n",
    "        return state in self.states\n",
    "    \n",
    "    def length(self):\n",
    "        return self.queue.length()"
   ]
  },
  {
   "cell_type": "markdown",
   "metadata": {},
   "source": [
    "We'll use this function to determine whether a space (given as a `(row, col)` tuple) is valid, i.e. whether it is an empty space within the boundaries of the maze. This time we choose to do this before creating the node object."
   ]
  },
  {
   "cell_type": "code",
   "execution_count": 5,
   "metadata": {},
   "outputs": [],
   "source": [
    "def valid_space(maze, space):\n",
    "    return 0 <= space[0] < len(maze) \\\n",
    "           and 0 <= space[1] < len(maze[0]) \\\n",
    "           and maze[space[0]][space[1]] == '.'"
   ]
  },
  {
   "cell_type": "markdown",
   "metadata": {},
   "source": [
    "Finally, the search code itself. The basic structure is not that different from the Tower of Hanoi example. The Frontier is already doing all the work to make this a greedy informed search: it calculates the heuristics and chooses which one to serve up next."
   ]
  },
  {
   "cell_type": "code",
   "execution_count": 6,
   "metadata": {
    "scrolled": true
   },
   "outputs": [
    {
     "name": "stdout",
     "output_type": "stream",
     "text": [
      "XXXXXXXX..#.....####\n",
      "..#....X##.#.#....#.\n",
      "..#..#.XX##....#....\n",
      "#.#.....XXXXXXXXX###\n",
      "##....###.#...##XXXX\n",
      ".#......#.....#....X\n",
      "...#..#...##.......X\n",
      "...#...##..#..#...XX\n",
      "......#........#..X#\n",
      "............#.....XX\n",
      "Total steps on path: 30\n",
      "Total states explored: 32\n"
     ]
    }
   ],
   "source": [
    "def greedy_search(maze, start=(0, 0), goal=None):\n",
    "    if goal is None:\n",
    "        goal = (len(maze) - 1, len(maze[0]) - 1)\n",
    "\n",
    "    # here's our Manhattan distance heurstic, as a lambda expression\n",
    "    heuristic = lambda node: abs(goal[0] - node.state[0]) + abs(goal[1] - node.state[1])\n",
    "    frontier = Frontier(heuristic, Node(start))\n",
    "    explored = set()\n",
    "\n",
    "    current_node = frontier.pop()\n",
    "    number_explored = 0\n",
    "    \n",
    "    while not current_node.state == goal:\n",
    "        current_state = current_node.state\n",
    "\n",
    "        number_explored += 1\n",
    "        explored.add(current_state)\n",
    "        \n",
    "        # the four neigbouring locations\n",
    "        right = (current_state[0], current_state[1] + 1)\n",
    "        left = (current_state[0], current_state[1] - 1)\n",
    "        down = (current_state[0] + 1, current_state[1])\n",
    "        up = (current_state[0] - 1, current_state[1])\n",
    "        \n",
    "        for space in [right, left, down, up]:\n",
    "            if valid_space(maze, space) \\\n",
    "               and space not in explored:\n",
    "                node = Node(space, parent=current_node)\n",
    "                frontier.push(node)\n",
    "\n",
    "        if frontier.length() == 0:\n",
    "            return None, number_explored\n",
    "\n",
    "        current_node = frontier.pop()\n",
    "    \n",
    "    return current_node, number_explored\n",
    "\n",
    "# here is the \"main\" code, we generate a new maze then try the search\n",
    "# try changing the random seed to try different mazes (not all are solvable)\n",
    "height = 10\n",
    "width = 20\n",
    "\n",
    "random.seed(0)\n",
    "maze = mazegen.mazegen(height, width)\n",
    "final_node, number_explored = greedy_search(maze)\n",
    "\n",
    "if final_node is None:\n",
    "    print(\"No path exists!\\n\")\n",
    "    mazegen.print_maze(maze)\n",
    "else:\n",
    "    node = final_node\n",
    "    steps = 0\n",
    "    while node.parent is not None:\n",
    "        state = node.state\n",
    "        maze[state[0]][state[1]] = 'X'\n",
    "        steps += 1\n",
    "        node = node.parent\n",
    "\n",
    "    state = node.state\n",
    "    maze[state[0]][state[1]] = 'X'\n",
    "    mazegen.print_maze(maze)\n",
    "    \n",
    "    print(f\"Total steps on path: {steps}\")\n",
    "    print(f\"Total states explored: {number_explored}\")"
   ]
  },
  {
   "cell_type": "markdown",
   "metadata": {},
   "source": [
    "Greedy informed search is great if we want a fast result. In this example the path to the goal is 30 steps long, and only 32 spaces were explored. However, the route is not optimal.\n",
    "\n",
    "```\n",
    "XX###\n",
    "#XXXX\n",
    "....X\n",
    "....X\n",
    "...XX\n",
    "#..X#\n",
    "...XX\n",
    "```\n",
    "\n",
    "In the bottom-right hand side of the maze, just before getting to the goal, the path doubles back on itself. This route would have been 2 steps shorter:\n",
    "```\n",
    "XX###\n",
    "#XXX.\n",
    "...X.\n",
    "...X.\n",
    "...X.\n",
    "#..X#\n",
    "...XX\n",
    "```\n",
    "\n",
    "### A* Search\n",
    "This is where A* search comes in. A* is guaranteed to find the optimal solution, provided we have an _admissible_ and _consistent heuristic_. Refer to the notes or the textbook for more details, but suffice to say our Manhattan distance will meet both conditions.\n",
    "\n",
    "The only modification required for A* search is to change the cost function. Rather than just using $h(x,y)$, our estimated cost, we now use $g(x,y) + h(x,y)$ to evaluate each space. $g(x,y)$ is the actual cost up to this point, and as before $h(x,y)$ is the estimated cost from the space to the goal.\n",
    "\n",
    "This just requires a slight modification to our code. Now each state must keep track of the length of the path from the start space. We'll modify the Node class to keep track of the total path cost, which thankfully is always one greater than the cost of the parent node:"
   ]
  },
  {
   "cell_type": "code",
   "execution_count": 7,
   "metadata": {},
   "outputs": [],
   "source": [
    "class Node:\n",
    "    def __init__(self, state, parent=None):\n",
    "        self.state = state\n",
    "        self.parent = parent\n",
    "        if parent is None:\n",
    "            self.path_cost = 0\n",
    "        else:\n",
    "            self.path_cost = parent.path_cost + 1\n",
    "\n",
    "    def __eq__(self, other):\n",
    "        return self.state == other.state\n",
    "\n",
    "    def __lt__(self, other):\n",
    "        return self.state < other.state\n",
    "\n",
    "    def __hash__(self):\n",
    "        return hash(self.state)\n",
    "\n",
    "    def __str__(self):\n",
    "        return f\"Node space {self.state}\""
   ]
  },
  {
   "cell_type": "markdown",
   "metadata": {},
   "source": [
    "Now we can modify the search code to become A* simply by changing the heuristic function that is passed into the Frontier."
   ]
  },
  {
   "cell_type": "code",
   "execution_count": 8,
   "metadata": {},
   "outputs": [
    {
     "name": "stdout",
     "output_type": "stream",
     "text": [
      "XXXXXXXX..#.....####\n",
      "..#....X##.#.#....#.\n",
      "..#..#.XX##....#....\n",
      "#.#.....XXXXXXXXX###\n",
      "##....###.#...##XXX.\n",
      ".#......#.....#...X.\n",
      "...#..#...##......X.\n",
      "...#...##..#..#...X.\n",
      "......#........#..X#\n",
      "............#.....XX\n",
      "Total steps on path: 28\n",
      "Total states explored: 114\n"
     ]
    }
   ],
   "source": [
    "def a_star_search(maze, start=(0, 0), goal=None):\n",
    "    if goal is None:\n",
    "        goal = (len(maze) - 1, len(maze[0]) - 1)\n",
    "\n",
    "    # This is the key line that turns the greedy search into A*\n",
    "    heuristic = lambda node: node.path_cost + \\\n",
    "                             abs(goal[0] - node.state[0]) + abs(goal[1] - node.state[1])\n",
    "    frontier = Frontier(heuristic, Node(start))\n",
    "    explored = set()\n",
    "\n",
    "    current_node = frontier.pop()\n",
    "    number_explored = 0\n",
    "    \n",
    "    while not current_node.state == goal:\n",
    "        current_state = current_node.state\n",
    "\n",
    "        number_explored += 1\n",
    "        explored.add(current_state)\n",
    "        \n",
    "        # the four neigbouring locations\n",
    "        right = (current_state[0], current_state[1] + 1)\n",
    "        left = (current_state[0], current_state[1] - 1)\n",
    "        down = (current_state[0] + 1, current_state[1])\n",
    "        up = (current_state[0] - 1, current_state[1])\n",
    "        \n",
    "        for space in [right, left, down, up]:\n",
    "            if valid_space(maze, space) \\\n",
    "               and space not in explored:\n",
    "                node = Node(space, parent=current_node)\n",
    "                frontier.push(node)\n",
    "\n",
    "        if frontier.length() == 0:\n",
    "            return None, number_explored\n",
    "\n",
    "        current_node = frontier.pop()\n",
    "    \n",
    "    return current_node, number_explored\n",
    "\n",
    "# The main code is mostly the same as above, just have to call the correct function!\n",
    "height = 10\n",
    "width = 20\n",
    "\n",
    "random.seed(0)\n",
    "maze = mazegen.mazegen(height, width)\n",
    "final_node, number_explored = a_star_search(maze)\n",
    "\n",
    "if final_node is None:\n",
    "    print(\"No path exists!\\n\")\n",
    "    mazegen.print_maze(maze)\n",
    "else:\n",
    "    node = final_node\n",
    "    steps = 0\n",
    "    while node.parent is not None:\n",
    "        state = node.state\n",
    "        maze[state[0]][state[1]] = 'X'\n",
    "        steps += 1\n",
    "        node = node.parent\n",
    "\n",
    "    state = node.state\n",
    "    maze[state[0]][state[1]] = 'X'\n",
    "    mazegen.print_maze(maze)\n",
    "    \n",
    "    print(f\"Total steps on path: {steps}\")\n",
    "    print(f\"Total states explored: {number_explored}\")"
   ]
  },
  {
   "cell_type": "markdown",
   "metadata": {},
   "source": [
    "As predicted, the A* algorithm found a better path of length 28 rather than 30. To do so, many more spaces had to be explored, just in case they were going to lead to a better path.\n",
    "\n",
    "You can play around with both algorithms using the code below. Try changing the random seed to get different mazes. Or you can write your own maze directly into the code, there is a helper function in mazegen which will convert a string into a 2D array of characters as required. Try this example, which nicely demonstrates the difference between the algorithms, then try making your own.\n",
    "\n",
    "```python\n",
    "maze = '''\\\n",
    ".......\n",
    "#.####.\n",
    "..#....\n",
    ".##.###\n",
    ".......'''\n",
    "maze = mazegen.str2array(maze)\n",
    "```"
   ]
  },
  {
   "cell_type": "code",
   "execution_count": 9,
   "metadata": {},
   "outputs": [],
   "source": [
    "# This helper function makes the code cleaner in the next cell\n",
    "\n",
    "import copy\n",
    "\n",
    "def display_results(maze, final_node, number_explored):\n",
    "    if final_node is None:\n",
    "        print(\"No path exists!\\n\")\n",
    "        mazegen.print_maze(maze)\n",
    "    else:\n",
    "        maze = copy.deepcopy(maze)\n",
    "        node = final_node\n",
    "        steps = 0\n",
    "        while node.parent is not None:\n",
    "            state = node.state\n",
    "            maze[state[0]][state[1]] = 'X'\n",
    "            steps += 1\n",
    "            node = node.parent\n",
    "\n",
    "        state = node.state\n",
    "        maze[state[0]][state[1]] = 'X'\n",
    "        mazegen.print_maze(maze)\n",
    "\n",
    "        print(f\"Total steps on path: {steps}\")\n",
    "        print(f\"Total states explored: {number_explored}\")\n",
    "        print()"
   ]
  },
  {
   "cell_type": "code",
   "execution_count": 10,
   "metadata": {},
   "outputs": [
    {
     "name": "stdout",
     "output_type": "stream",
     "text": [
      "X##....#..#.#..#.##...#.............#...##..###.#.\n",
      "X.##....#...#....#.....##....##.#..#....#.#####...\n",
      "X#XXXXXXXXXXXXXX####.#....#....XXXXX#........#...#\n",
      "XXX#.#...##....XXXX.##.#.##...#X##.X###....XXXXXXX\n",
      ".##...##...##.#..#X#..#.#.#...#X##.XXX.###.X#....X\n",
      "#.#..##....#..#...X#.#.##.....XX#....X###..X#....X\n",
      "....#...#....##...XXXXXXXXXXX#X#..#.#X###.XX#.#.#X\n",
      ".#####....#...##..#.........XXX.#....XXXXXX#.....X\n",
      "##.....#.##..#.##.###.....#..#...#.##..##.##.#.##X\n",
      "#....##......#......#.......###..##....#.#.###...X\n",
      "Total steps on path: 78\n",
      "Total states explored: 107\n",
      "\n",
      "X##....#..#.#..#.##...#.............#...##..###.#.\n",
      "X.##....#...#....#.....##....##.#..#....#.#####...\n",
      "X#XXXXXXXXXXXXXX####.#....#....XXXXX#........#...#\n",
      "XXX#.#...##....XXXX.##.#.##...#X##.X###....XXXXXXX\n",
      ".##...##...##.#..#X#..#.#.#...#X##.XXX.###.X#....X\n",
      "#.#..##....#..#...X#.#.##...XXXX#....X###..X#....X\n",
      "....#...#....##...XXXXXXXXXXX#.#..#.#X###.XX#.#.#X\n",
      ".#####....#...##..#.............#....XXXXXX#.....X\n",
      "##.....#.##..#.##.###.....#..#...#.##..##.##.#.##X\n",
      "#....##......#......#.......###..##....#.#.###...X\n",
      "Total steps on path: 76\n",
      "Total states explored: 296\n",
      "\n"
     ]
    }
   ],
   "source": [
    "height = 10\n",
    "width = 50\n",
    "\n",
    "random.seed(1)\n",
    "maze = mazegen.mazegen(height, width, obstacle_weight=0.3)\n",
    "\n",
    "final_node, number_explored = greedy_search(maze)\n",
    "display_results(maze, final_node, number_explored)\n",
    "\n",
    "final_node, number_explored = a_star_search(maze)\n",
    "display_results(maze, final_node, number_explored)"
   ]
  }
 ],
 "metadata": {
  "kernelspec": {
   "display_name": "Python 3",
   "language": "python",
   "name": "python3"
  },
  "language_info": {
   "codemirror_mode": {
    "name": "ipython",
    "version": 3
   },
   "file_extension": ".py",
   "mimetype": "text/x-python",
   "name": "python",
   "nbconvert_exporter": "python",
   "pygments_lexer": "ipython3",
   "version": "3.8.5"
  },
  "pycharm": {
   "stem_cell": {
    "cell_type": "raw",
    "metadata": {
     "collapsed": false
    },
    "source": []
   }
  }
 },
 "nbformat": 4,
 "nbformat_minor": 2
}
