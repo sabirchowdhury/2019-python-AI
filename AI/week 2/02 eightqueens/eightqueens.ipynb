{
 "cells": [
  {
   "cell_type": "markdown",
   "metadata": {},
   "source": [
    "# Local Search\n",
    "## Eight Queens\n",
    "### Introduction\n",
    "\n",
    "<figure>\n",
    "<img src=\"resources/eight_queens_moves.png\", width=300 align=\"right\">\n",
    "    <figcaption></figcaption>\n",
    "</figure>\n",
    "\n",
    "The [Eight Queens puzzle](https://en.wikipedia.org/wiki/Eight_queens_puzzle) is a famous puzzle that has been studied extensively in- and outside of computer science. It was first published in the chess magazine _Schach_ in 1848. \n",
    "\n",
    "The problem can be formulated as follows: \n",
    "\n",
    "_\"Place 8 queens on a regular (8x8) chess board such that no queen attacks any other queen.\"_\n",
    "\n",
    "A queen in the game of chess can move horizontally, vertically, and diagonally. The puzzle can be solved by hand (and even [Carl Friedrich Gauss](https://en.wikipedia.org/wiki/Carl_Friedrich_Gauss) studied it back in 1850)."
   ]
  },
  {
   "cell_type": "markdown",
   "metadata": {},
   "source": [
    "### Eight Queens Code\n",
    "Before we attempt any algorithmic solution, we need a way to model the Eight Queens puzzle: the board, the valid moves, and so on.\n",
    "\n",
    "We could use a 2D array to represent the chessboard. However we get some automatic benefits if we use another representation. Specifically, we will use a 1D array of size 8. Each cell in the array stores the location of the queen in that column. This means the board state itself enforces one of the rules of the game, it is not possible to put two queens in one column.\n",
    "\n",
    "So the following board:\n",
    "```\n",
    "   01234567\n",
    "7  .X......\n",
    "6  .....X..\n",
    "5  X.......\n",
    "4  ..X.....\n",
    "3  .......X\n",
    "2  ....X...\n",
    "1  ......X.\n",
    "0  ...X....\n",
    "```\n",
    "would be represented by the following array:\n",
    "`[5, 7, 4, 0, 2, 6, 1, 3]`\n",
    "\n",
    "We'll use numpy for this example, so it will actually be:"
   ]
  },
  {
   "cell_type": "code",
   "execution_count": 1,
   "metadata": {},
   "outputs": [
    {
     "data": {
      "text/plain": [
       "array([5, 7, 4, 0, 2, 6, 1, 3])"
      ]
     },
     "execution_count": 1,
     "metadata": {},
     "output_type": "execute_result"
    }
   ],
   "source": [
    "import numpy as np\n",
    "np.array([5, 7, 4, 0, 2, 6, 1, 3], dtype=np.int)"
   ]
  },
  {
   "cell_type": "markdown",
   "metadata": {},
   "source": [
    "Notice that the board above is not a valid arrangement. The two queens highlighted with `O` symbols are attacking each other.\n",
    "\n",
    "```\n",
    "   01234567\n",
    "7  .X......\n",
    "6  .....X..\n",
    "5  X.......\n",
    "4  ..O.....\n",
    "3  .......X\n",
    "2  ....O...\n",
    "1  ......X.\n",
    "0  ...X....\n",
    "```\n",
    "\n",
    "Being able to actually model the problem we are trying to solve is a necessary part of writing AI code. You can spend surprisingly long just implementing the rules of the puzzle, but without this step you cannot hope to solve it! Sometimes we will provide code to help, as in the Tower of Hanoi example. But you will often need to modify or create your own from scratch. So it's important to take some time to understand how this code works.\n",
    "\n",
    "The code below implements the board state for the eight queens puzzle. It includes a method which can calculate the cost heuristic – in this case, the number of pairs of attacking queens. It also has methods which generate neighbouring states, which are states with exactly one queen moved within its column."
   ]
  },
  {
   "cell_type": "code",
   "execution_count": 2,
   "metadata": {},
   "outputs": [],
   "source": [
    "class EightQueensState:\n",
    "    \"\"\"This class represents a board in the eight queens puzzle\"\"\"\n",
    "    def __init__(self, state=None, n=8):\n",
    "        \"\"\"\n",
    "        :param state: pass in a numpy array of integers to set the state, otherwise will be generated randomly\n",
    "        :param n: only used if state is not provided, determines size of board (default: 8)\n",
    "        \"\"\"\n",
    "        if state is None:\n",
    "            self.n = n\n",
    "            state = np.random.randint(0, n, n)\n",
    "        else:\n",
    "            self.n = len(state)\n",
    "        self.state = state\n",
    "\n",
    "    @staticmethod\n",
    "    def copy_replace(state, i, x):\n",
    "        \"\"\"This creates a copy of the state (important as numpy arrays are mutable) with column i set to x\"\"\"\n",
    "        new_state = state.copy()\n",
    "        new_state[i] = x\n",
    "        return new_state\n",
    "\n",
    "    @staticmethod\n",
    "    def range_missing(start, stop, missing):\n",
    "        \"\"\"\n",
    "        This creates a list of numbers with a single value missing\n",
    "        e.g. range_missing(0, 8, 2) -> [0, 1, 3, 4, 5, 6, 7]\n",
    "        \"\"\"\n",
    "        return list(range(start, missing)) + list(range(missing + 1, stop))\n",
    "\n",
    "    def cost(self):\n",
    "        \"\"\"Calculates the number of pairs attacking\"\"\"\n",
    "        count = 0\n",
    "        for i in range(len(self.state) - 1):\n",
    "            # for each queen, look in columns to the right\n",
    "            # add one to the count if there is another queen in the same row\n",
    "            count += np.any(self.state[i + 1:] == self.state[i])\n",
    "\n",
    "            # add one to the count for each queen on the upper or lower diagonal\n",
    "            upper_diagonal = self.state[i] + np.arange(1, self.n - i)\n",
    "            lower_diagonal = self.state[i] - np.arange(1, self.n - i)\n",
    "            count += np.any(self.state[i + 1:] == upper_diagonal)\n",
    "            count += np.any(self.state[i + 1:] == lower_diagonal)\n",
    "        return count\n",
    "\n",
    "    def neighbourhood(self):\n",
    "        \"\"\"This generates every state possible by changing a single queen position\"\"\"\n",
    "        neighbourhood = []\n",
    "        for column in range(self.n):\n",
    "            for new_position in self.range_missing(0, self.n, self.state[column]):\n",
    "                new_state = self.copy_replace(self.state, column, new_position)\n",
    "                neighbourhood.append(EightQueensState(new_state))\n",
    "\n",
    "        return neighbourhood\n",
    "\n",
    "    def random_neighbour(self):\n",
    "        \"\"\"Generates a single random neighbour state, useful for some algorithms\"\"\"\n",
    "        column = np.random.choice(range(self.n))\n",
    "        new_position = np.random.choice(self.range_missing(0, self.n, self.state[column]))\n",
    "        new_state = self.copy_replace(self.state, column, new_position)\n",
    "        return EightQueensState(new_state)\n",
    "\n",
    "    def is_goal(self):\n",
    "        return self.cost() == 0\n",
    "\n",
    "    def __str__(self):\n",
    "        if self.is_goal():\n",
    "            return f\"Goal state! {self.state}\"\n",
    "        else:\n",
    "            return f\"{self.state} cost {self.cost()}\""
   ]
  },
  {
   "cell_type": "markdown",
   "metadata": {},
   "source": [
    "Read the code before moving on. You should at least understand what each method does (e.g. from its name, parameters, and docstring) but you may also want to read some of the implementation."
   ]
  },
  {
   "cell_type": "code",
   "execution_count": 9,
   "metadata": {},
   "outputs": [
    {
     "name": "stdout",
     "output_type": "stream",
     "text": [
      "[2 5 5 3 4 2 5 2] cost 7\n",
      "False\n"
     ]
    }
   ],
   "source": [
    "state = EightQueensState()\n",
    "print(state)\n",
    "print(state.is_goal())"
   ]
  },
  {
   "cell_type": "markdown",
   "metadata": {},
   "source": [
    "### Hill Climbing\n",
    "Hill-climbing search (Section 4.1.1 in R&N) is a very general and intuitive class of algorithms. Hill-climbing methods can be applied if one is able to assign a _value_ to each state on the search path. The algorithm then continuously moves towards higher-valued states (that is, climbing uphill). The algorithm terminates if there is no higher-valued state in the current neighbourhood.\n",
    "\n",
    "<figure>\n",
    "<img src=\"resources/hill_climbing_no_capt.png\", width=600>\n",
    "<center>Figure 1. Pseudocode of the hill-climbing algorithm taken from Russell and Norvig (p.122). <br> At each step the current node is replaced by the best neighbour.</center>\n",
    "</figure>\n",
    "<br>\n",
    "\n",
    "Notice that since we are using a *cost function* for our heuristic (smaller values are good), what we really want to do is climb *“downhill”*. We will adapt the pseudocode to achieve this.\n",
    "\n",
    "We already have our state representation, so now let's write the code which does the hill climbing."
   ]
  },
  {
   "cell_type": "code",
   "execution_count": 13,
   "metadata": {},
   "outputs": [
    {
     "name": "stdout",
     "output_type": "stream",
     "text": [
      "Goal state! [7 3 0 2 5 1 6 4]\n"
     ]
    }
   ],
   "source": [
    "class HillClimber:\n",
    "    \"\"\"Applies the hill climbing algorithm to solve the 8 queens puzzle\"\"\"\n",
    "    def __init__(self, state=EightQueensState()):\n",
    "        self.state = state\n",
    "        self.n = state.n\n",
    "\n",
    "    @staticmethod\n",
    "    def best_neighbour(state):\n",
    "        \"\"\"Gets all neighbours from the state, then returns the one with lowest cost\"\"\"\n",
    "        return min(state.neighbourhood(), key=lambda x: x.cost())\n",
    "\n",
    "    def hill_climb(self):\n",
    "        \"\"\"\n",
    "        Repeatedly take the best neighbour of each state until we find a solution (or get stuck)\n",
    "        :returns a goal state OR a local minimum (if all options are worse than the current one but it is not a goal)\n",
    "        \"\"\"\n",
    "        if self.state.is_goal():\n",
    "            return self.state\n",
    "\n",
    "        while True:\n",
    "            neighbour = HillClimber.best_neighbour(self.state)\n",
    "            if neighbour.is_goal():\n",
    "                return neighbour\n",
    "            if neighbour.cost() < self.state.cost():\n",
    "                self.state = neighbour\n",
    "            else:\n",
    "                # notice the method gives up if there are no better options\n",
    "                return self.state\n",
    "\n",
    "state = EightQueensState()\n",
    "climber = HillClimber(state)\n",
    "solution = climber.hill_climb()\n",
    "print(solution)"
   ]
  },
  {
   "cell_type": "markdown",
   "metadata": {},
   "source": [
    "As always, take some time to read and fully understand the code.\n",
    "\n",
    "When I ran the code above, the following solution was found: `[3 1 7 5 0 2 4 6]`. Here it is visualised on a board:\n",
    "```\n",
    "   01234567\n",
    "7  ..X.....\n",
    "6  .......X\n",
    "5  ...X....\n",
    "4  ......X.\n",
    "3  X.......\n",
    "2  .....X..\n",
    "1  .X......\n",
    "0  ....X...\n",
    "```\n",
    "\n",
    "Looks great, right! But there's a problem. Try running the solver again, and you might get something like this:"
   ]
  },
  {
   "cell_type": "code",
   "execution_count": 11,
   "metadata": {},
   "outputs": [
    {
     "name": "stdout",
     "output_type": "stream",
     "text": [
      "[3 6 6 2 0 6 4 7] cost 2\n"
     ]
    }
   ],
   "source": [
    "state = EightQueensState()\n",
    "climber = HillClimber(state)\n",
    "solution = climber.hill_climb()\n",
    "print(solution)"
   ]
  },
  {
   "cell_type": "markdown",
   "metadata": {},
   "source": [
    "This time the output is: `[3 6 6 2 0 6 4 7] cost 2`\n",
    "\n",
    "We can see immediately that this is not a solution, there are two queens on row 6. The hill climbing algorithm gave up! The problem was that no neighbouring state was able to improve the result. Every possible way of moving a single queen on this board results in a state with cost 2 or higher.\n",
    "\n",
    "This is called a *local minimum*, and it's a common flaw with hill climbing algorithms. We know this isn't a *global minimum*, because we know there are states with cost 0, but we cannot see it from where we are in the search space.\n",
    "\n",
    "We can make the code more likely to succeed by changing this line\n",
    "```python\n",
    "if neighbour.cost() < self.state.cost():\n",
    "```\n",
    "to\n",
    "```python\n",
    "if neighbour.cost() <= self.state.cost():\n",
    "```\n",
    "\n",
    "This actually follows the pseudocode above more closely. But this is still not guaranteed to avoid the problem, some local minimum states might be strictly better than all other states in their neighbourhood. And worse, it could result in an infinite loop where the algorithm repeatedly swaps between two equal cost states, both at the bottom of a valley (or the top of a hill), which we will never escape.\n",
    "\n",
    "### Task: Iterative Hill Climb\n",
    "Luckily, there is a simple fix for this problem, which is to perform hill climbing iteratively. Start at a random location, hill climb, then if we hit a local minimum or maximum, we restart from another random location. It might seem like a hacky solution but it's surprisingly effective.\n",
    "\n",
    "* Modify the code below to include an iterative version of the hill climbing algorithm\n",
    "* Once you have done that, add some metrics to measure how many steps this algorithm takes (you pick, e.g. how many states are generated, how many 'next best states' are followed, how many times does it restart)\n",
    "* $n$-queens has solutions for all values of $n$ greater than $3$, how well does your code fare on a 10x10 board? How about 15x15 or 20x20? (Note you can call `EightQueensState(n=15)`)\n",
    "* For an additional challenge, read about and then implement another local search method, either from the textbook or elsewhere online. I suggest Simulated Annealing or Genetic Algorithms. Compare your results to iterative hill climbing on the same metric, and post your best result to the forum!"
   ]
  },
  {
   "cell_type": "code",
   "execution_count": null,
   "metadata": {},
   "outputs": [],
   "source": [
    "class HillClimber:\n",
    "    \"\"\"Applies the hill climbing algorithm to solve the 8 queens puzzle\"\"\"\n",
    "    def __init__(self, state=EightQueensState()):\n",
    "        self.state = state\n",
    "        self.n = state.n\n",
    "\n",
    "    @staticmethod\n",
    "    def best_neighbour(state):\n",
    "        \"\"\"Gets all neighbours from the state, then returns the one with lowest cost\"\"\"\n",
    "        return min(state.neighbourhood(), key=lambda x: x.cost())\n",
    "\n",
    "    def hill_climb(self):\n",
    "        \"\"\"\n",
    "        Repeatedly take the best neighbour of each state until we find a solution (or get stuck)\n",
    "        :returns a goal state OR a local minimum (if all options are worse than the current one but it is not a goal)\n",
    "        \"\"\"\n",
    "        if self.state.is_goal():\n",
    "            return self.state\n",
    "\n",
    "        while True:\n",
    "            neighbour = HillClimber.best_neighbour(self.state)\n",
    "            if neighbour.is_goal():\n",
    "                return neighbour\n",
    "            if neighbour.cost() < self.state.cost():\n",
    "                self.state = neighbour\n",
    "            else:\n",
    "                # notice the method gives up if there are no better options\n",
    "                return self.state\n",
    "\n",
    "    def iterative_hill_climb(self):\n",
    "        \"\"\"Your code goes here!\"\"\"\n",
    "        pass\n",
    "    \n",
    "state = EightQueensState()\n",
    "climber = HillClimber(state)\n",
    "solution = climber.iterative_hill_climb()\n",
    "print(solution)"
   ]
  }
 ],
 "metadata": {
  "kernelspec": {
   "display_name": "Python 3",
   "language": "python",
   "name": "python3"
  },
  "language_info": {
   "codemirror_mode": {
    "name": "ipython",
    "version": 3
   },
   "file_extension": ".py",
   "mimetype": "text/x-python",
   "name": "python",
   "nbconvert_exporter": "python",
   "pygments_lexer": "ipython3",
   "version": "3.8.5"
  }
 },
 "nbformat": 4,
 "nbformat_minor": 2
}
